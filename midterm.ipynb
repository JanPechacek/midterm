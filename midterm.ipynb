{
 "cells": [
  {
   "cell_type": "code",
   "execution_count": null,
   "id": "9a5e4f38-eb0e-4dcb-9fa6-5797c5fa281d",
   "metadata": {},
   "outputs": [],
   "source": [
    "import pandas as pd\n",
    "import seaborn as sns\n",
    "import math\n",
    "import matplotlib.pyplot as plt\n",
    "import scipy.stats as stats\n",
    "import numpy as np"
   ]
  },
  {
   "cell_type": "code",
   "execution_count": null,
   "id": "9a700718-144d-41af-9bab-96f43857791a",
   "metadata": {},
   "outputs": [],
   "source": [
    "df_IDXX = pd.read_csv('IDXX.csv', index_col='Date')\n",
    "df_WDC= pd.read_csv('WDC.csv', index_col='Date')\n",
    "df_DG = pd.read_csv('DG.csv', index_col='Date')"
   ]
  },
  {
   "cell_type": "code",
   "execution_count": null,
   "id": "b54ade44-8fb2-4385-8e62-425c53375eca",
   "metadata": {},
   "outputs": [],
   "source": []
  },
  {
   "cell_type": "code",
   "execution_count": null,
   "id": "880af768-780e-4244-af8e-88cb988cf9d6",
   "metadata": {},
   "outputs": [],
   "source": [
    "df_IDXX.index\n"
   ]
  },
  {
   "cell_type": "code",
   "execution_count": null,
   "id": "3b3f1119-bdfe-4677-966c-c2231b1d27a4",
   "metadata": {},
   "outputs": [],
   "source": [
    "df_WDC.index"
   ]
  },
  {
   "cell_type": "code",
   "execution_count": 15,
   "id": "7cbbb0ac-b3b4-4450-bb9a-29cebfd5d1f8",
   "metadata": {},
   "outputs": [
    {
     "data": {
      "text/plain": [
       "Index(['2017-11-13', '2017-11-14', '2017-11-15', '2017-11-16', '2017-11-17',\n",
       "       '2017-11-20', '2017-11-21', '2017-11-22', '2017-11-24', '2017-11-27',\n",
       "       ...\n",
       "       '2022-10-28', '2022-10-31', '2022-11-01', '2022-11-02', '2022-11-03',\n",
       "       '2022-11-04', '2022-11-07', '2022-11-08', '2022-11-10', '2022-11-11'],\n",
       "      dtype='object', name='Date', length=1258)"
      ]
     },
     "execution_count": 15,
     "metadata": {},
     "output_type": "execute_result"
    }
   ],
   "source": [
    "df_DG.index"
   ]
  },
  {
   "cell_type": "code",
   "execution_count": 16,
   "id": "45bfbba3-e5f4-4e9f-a200-f0cd5d5f94f8",
   "metadata": {},
   "outputs": [
    {
     "data": {
      "text/plain": [
       "Index(['High', 'Low', 'Open', 'Close', 'Volume', 'Adj Close'], dtype='object')"
      ]
     },
     "execution_count": 16,
     "metadata": {},
     "output_type": "execute_result"
    }
   ],
   "source": [
    "df_IDXX.columns\n",
    "\n"
   ]
  },
  {
   "cell_type": "code",
   "execution_count": 19,
   "id": "d499dce7-24a3-40ec-9852-c615335014f3",
   "metadata": {},
   "outputs": [
    {
     "data": {
      "text/plain": [
       "False"
      ]
     },
     "execution_count": 19,
     "metadata": {},
     "output_type": "execute_result"
    }
   ],
   "source": [
    "df_WDC['Close'].equals(df_WDC['Adj Close'])"
   ]
  },
  {
   "cell_type": "code",
   "execution_count": 18,
   "id": "3c9ffb7e-4053-4c42-81a6-5df7ec70a7df",
   "metadata": {},
   "outputs": [
    {
     "data": {
      "text/plain": [
       "True"
      ]
     },
     "execution_count": 18,
     "metadata": {},
     "output_type": "execute_result"
    }
   ],
   "source": [
    "df_IDXX['Close'].equals(df_IDXX['Adj Close'])"
   ]
  },
  {
   "cell_type": "code",
   "execution_count": 20,
   "id": "3a299bb5-50fc-4229-b571-5bfd70c2cdf1",
   "metadata": {},
   "outputs": [
    {
     "data": {
      "text/plain": [
       "False"
      ]
     },
     "execution_count": 20,
     "metadata": {},
     "output_type": "execute_result"
    }
   ],
   "source": [
    "df_DG['Close'].equals(df_DG['Adj Close'])"
   ]
  },
  {
   "cell_type": "code",
   "execution_count": null,
   "id": "2d7f7904-9492-4743-a7ea-9a4b0b3a7729",
   "metadata": {},
   "outputs": [],
   "source": [
    "#Adj close = The adjusted closing price factors in anything that might affect the stock price after the market closes\n",
    "\n",
    "#Can mean that IDXX pays no dividens or does no splits"
   ]
  },
  {
   "cell_type": "code",
   "execution_count": 23,
   "id": "47ee9c80-bd23-4eb2-9d3c-00f6184fea8e",
   "metadata": {},
   "outputs": [
    {
     "name": "stdout",
     "output_type": "stream",
     "text": [
      "705.760009765625\n",
      "147.7899932861328\n"
     ]
    }
   ],
   "source": [
    "max = df_IDXX['Adj Close'].max()\n",
    "min = df_IDXX['Adj Close'].min()\n",
    "print(max)\n",
    "print(min)"
   ]
  },
  {
   "cell_type": "code",
   "execution_count": 24,
   "id": "bfb7065d-f42c-41a8-a1ae-a1a386871761",
   "metadata": {},
   "outputs": [
    {
     "name": "stdout",
     "output_type": "stream",
     "text": [
      "97.6463623046875\n",
      "28.812576293945312\n"
     ]
    }
   ],
   "source": [
    "max = df_WDC['Adj Close'].max()\n",
    "min = df_WDC['Adj Close'].min()\n",
    "print(max)\n",
    "print(min)"
   ]
  },
  {
   "cell_type": "code",
   "execution_count": 25,
   "id": "763748a8-afaf-4bcb-becf-2a7b5b0041be",
   "metadata": {},
   "outputs": [
    {
     "name": "stdout",
     "output_type": "stream",
     "text": [
      "260.44000244140625\n",
      "79.19427490234375\n"
     ]
    }
   ],
   "source": [
    "max = df_DG['Adj Close'].max()\n",
    "min = df_DG['Adj Close'].min()\n",
    "print(max)\n",
    "print(min)"
   ]
  },
  {
   "cell_type": "code",
   "execution_count": 27,
   "id": "85b12dc9-438b-430e-817c-3df397231469",
   "metadata": {},
   "outputs": [
    {
     "name": "stdout",
     "output_type": "stream",
     "text": [
      "count    1257.000000\n",
      "mean        0.000870\n",
      "std         0.021356\n",
      "min        -0.127116\n",
      "25%        -0.009793\n",
      "50%         0.002371\n",
      "75%         0.012978\n",
      "max         0.113803\n",
      "Name: Adj Close, dtype: float64\n",
      "0.002371396487977601\n"
     ]
    }
   ],
   "source": [
    "returns = np.log(df_IDXX['Adj Close']/df_IDXX['Adj Close'].shift())\n",
    "print(returns.describe())\n",
    "print(returns.median())"
   ]
  },
  {
   "cell_type": "code",
   "execution_count": 28,
   "id": "44bb9032-9fcd-49d7-9017-1ac8a41f1bcd",
   "metadata": {},
   "outputs": [
    {
     "name": "stdout",
     "output_type": "stream",
     "text": [
      "count    1258.000000\n",
      "mean       -0.000562\n",
      "std         0.032069\n",
      "min        -0.228719\n",
      "25%        -0.016454\n",
      "50%         0.000293\n",
      "75%         0.016423\n",
      "max         0.163377\n",
      "Name: Adj Close, dtype: float64\n",
      "0.00029273185485901085\n"
     ]
    }
   ],
   "source": [
    "returns = np.log(df_WDC['Adj Close']/df_WDC['Adj Close'].shift())\n",
    "print(returns.describe())\n",
    "print(returns.median())"
   ]
  },
  {
   "cell_type": "code",
   "execution_count": 29,
   "id": "ca87a76e-ae88-4994-a459-b211127c7182",
   "metadata": {},
   "outputs": [
    {
     "name": "stdout",
     "output_type": "stream",
     "text": [
      "count    1257.000000\n",
      "mean        0.000900\n",
      "std         0.016682\n",
      "min        -0.117816\n",
      "25%        -0.006316\n",
      "50%         0.000540\n",
      "75%         0.008729\n",
      "max         0.128521\n",
      "Name: Adj Close, dtype: float64\n",
      "0.0005404142653178597\n"
     ]
    }
   ],
   "source": [
    "returns = np.log(df_DG['Adj Close']/df_DG['Adj Close'].shift())\n",
    "print(returns.describe())\n",
    "print(returns.median())"
   ]
  },
  {
   "cell_type": "code",
   "execution_count": 42,
   "id": "fe017f97-8a1e-41c3-a09d-3d18c0f0123e",
   "metadata": {},
   "outputs": [
    {
     "name": "stdout",
     "output_type": "stream",
     "text": [
      "2020-03-24\n",
      "2020-03-16\n"
     ]
    }
   ],
   "source": [
    "df_IDXX['Change'] =  df_IDXX['Adj Close'].pct_change()\n",
    "print(df_IDXX['Change'].idxmax())\n",
    "print(df_IDXX['Change'].idxmin())"
   ]
  },
  {
   "cell_type": "code",
   "execution_count": 43,
   "id": "46de2a02-74da-402a-813a-2809b61cfcfa",
   "metadata": {},
   "outputs": [
    {
     "name": "stdout",
     "output_type": "stream",
     "text": [
      "2020-03-24\n",
      "2020-03-16\n"
     ]
    }
   ],
   "source": [
    "df_WDC['Change'] =  df_WDC['Adj Close'].pct_change()\n",
    "print(df_WDC['Change'].idxmax())\n",
    "print(df_WDC['Change'].idxmin())"
   ]
  },
  {
   "cell_type": "code",
   "execution_count": 44,
   "id": "de0eeb21-142e-40a3-a1e8-1a9a760f8801",
   "metadata": {},
   "outputs": [
    {
     "name": "stdout",
     "output_type": "stream",
     "text": [
      "2022-05-26\n",
      "2022-05-18\n"
     ]
    }
   ],
   "source": [
    "df_DG['Change'] =  df_DG['Adj Close'].pct_change()\n",
    "print(df_DG['Change'].idxmax())\n",
    "print(df_DG['Change'].idxmin())"
   ]
  },
  {
   "cell_type": "code",
   "execution_count": 49,
   "id": "f7976042-3442-434d-aab6-73713a9ba1fe",
   "metadata": {},
   "outputs": [
    {
     "name": "stdout",
     "output_type": "stream",
     "text": [
      "Date\n",
      "2017-11-13    680700.000000\n",
      "2017-11-20    596620.000000\n",
      "2017-11-27    303425.000000\n",
      "2017-12-04    612120.000000\n",
      "2017-12-11    557640.000000\n",
      "                  ...      \n",
      "2022-10-17    464480.000000\n",
      "2022-10-24    378120.000000\n",
      "2022-10-31    530620.000000\n",
      "2022-11-07    744620.000000\n",
      "2022-11-14    677833.333333\n",
      "Freq: W-MON, Name: Volume, Length: 262, dtype: float64\n"
     ]
    }
   ],
   "source": [
    "df_IDXX.index = pd.to_datetime(df_IDXX.index)\n",
    "type(df_IDXX.index)\n",
    "ts = df_IDXX.resample('W-MON')\n",
    "print(ts['Volume'].mean())"
   ]
  },
  {
   "cell_type": "code",
   "execution_count": 50,
   "id": "a4d52764-9176-46e4-ae79-1cb6902e6cd1",
   "metadata": {},
   "outputs": [
    {
     "name": "stdout",
     "output_type": "stream",
     "text": [
      "Date\n",
      "2017-11-13    2144600.0\n",
      "2017-11-20    3085800.0\n",
      "2017-11-27    4328700.0\n",
      "2017-12-04    6187240.0\n",
      "2017-12-11    3671840.0\n",
      "                ...    \n",
      "2022-10-17    5211920.0\n",
      "2022-10-24    4471000.0\n",
      "2022-10-31    5902620.0\n",
      "2022-11-07    4698160.0\n",
      "2022-11-14    4056275.0\n",
      "Freq: W-MON, Name: Volume, Length: 262, dtype: float64\n"
     ]
    }
   ],
   "source": [
    "df_WDC.index = pd.to_datetime(df_WDC.index)\n",
    "type(df_WDC.index)\n",
    "ts = df_WDC.resample('W-MON')\n",
    "print(ts['Volume'].mean())"
   ]
  },
  {
   "cell_type": "code",
   "execution_count": 51,
   "id": "abfb47e0-2366-44c5-85ee-8b912cfa9164",
   "metadata": {},
   "outputs": [
    {
     "name": "stdout",
     "output_type": "stream",
     "text": [
      "Date\n",
      "2017-11-13    2794400.0\n",
      "2017-11-20    2855720.0\n",
      "2017-11-27    2132850.0\n",
      "2017-12-04    3409320.0\n",
      "2017-12-11    3650260.0\n",
      "                ...    \n",
      "2022-10-17    1569900.0\n",
      "2022-10-24    1568780.0\n",
      "2022-10-31    1910280.0\n",
      "2022-11-07    1545700.0\n",
      "2022-11-14    1978200.0\n",
      "Freq: W-MON, Name: Volume, Length: 262, dtype: float64\n"
     ]
    }
   ],
   "source": [
    "df_DG.index = pd.to_datetime(df_DG.index)\n",
    "type(df_DG.index)\n",
    "ts = df_DG.resample('W-MON')\n",
    "print(ts['Volume'].mean())"
   ]
  },
  {
   "cell_type": "code",
   "execution_count": 71,
   "id": "b848d507-3f86-42ec-ad9e-eb2a652547de",
   "metadata": {},
   "outputs": [
    {
     "data": {
      "text/plain": [
       "Date\n",
       "2022-11-11    293.479996\n",
       "Name: Adj Close, dtype: float64"
      ]
     },
     "execution_count": 71,
     "metadata": {},
     "output_type": "execute_result"
    }
   ],
   "source": [
    "df_IDXX['Adj Close'].diff().cumsum().tail(1)\n",
    "\n",
    "\n"
   ]
  },
  {
   "cell_type": "code",
   "execution_count": 69,
   "id": "cc2dc6a8-7dae-422d-8fb4-1010f8ddbf47",
   "metadata": {},
   "outputs": [
    {
     "data": {
      "text/plain": [
       "Date\n",
       "2022-11-11   -40.874809\n",
       "Name: Adj Close, dtype: float64"
      ]
     },
     "execution_count": 69,
     "metadata": {},
     "output_type": "execute_result"
    }
   ],
   "source": [
    "df_WDC['Adj Close'].diff().cumsum().tail(1)\n",
    "\n",
    "\n"
   ]
  },
  {
   "cell_type": "code",
   "execution_count": 70,
   "id": "f61659b7-5301-4243-a29f-351030cd667a",
   "metadata": {},
   "outputs": [
    {
     "data": {
      "text/plain": [
       "Date\n",
       "2022-11-11    168.742882\n",
       "Name: Adj Close, dtype: float64"
      ]
     },
     "execution_count": 70,
     "metadata": {},
     "output_type": "execute_result"
    }
   ],
   "source": [
    "df_DG['Adj Close'].diff().cumsum().tail(1)\n",
    "\n"
   ]
  },
  {
   "cell_type": "code",
   "execution_count": 72,
   "id": "d9eb13e1-e51a-44c5-b182-a011dfafbc59",
   "metadata": {},
   "outputs": [],
   "source": [
    "# IDXX has biggest returns in the whole period"
   ]
  },
  {
   "cell_type": "code",
   "execution_count": null,
   "id": "c56e0c7b-e7d6-4083-be88-5e85d0bccf55",
   "metadata": {},
   "outputs": [],
   "source": []
  }
 ],
 "metadata": {
  "kernelspec": {
   "display_name": "Python 3 (ipykernel)",
   "language": "python",
   "name": "python3"
  },
  "language_info": {
   "codemirror_mode": {
    "name": "ipython",
    "version": 3
   },
   "file_extension": ".py",
   "mimetype": "text/x-python",
   "name": "python",
   "nbconvert_exporter": "python",
   "pygments_lexer": "ipython3",
   "version": "3.9.12"
  }
 },
 "nbformat": 4,
 "nbformat_minor": 5
}
